{
 "cells": [
  {
   "cell_type": "code",
   "execution_count": 1,
   "metadata": {},
   "outputs": [
    {
     "name": "stdout",
     "output_type": "stream",
     "text": [
      "['kavi', 'bavi', 'usha', 'sumi', 'devi', 'shruth']\n"
     ]
    }
   ],
   "source": [
    "# introduction to for loops:\n",
    "students_namelist= ['kavi','bavi','usha','sumi','devi','shruth']\n",
    "print(students_namelist)"
   ]
  },
  {
   "cell_type": "code",
   "execution_count": 2,
   "metadata": {},
   "outputs": [
    {
     "name": "stdout",
     "output_type": "stream",
     "text": [
      "Good morning.Have a nice day,Kavi\n",
      "Good morning.Have a nice day,Bavi\n",
      "Good morning.Have a nice day,Usha\n",
      "Good morning.Have a nice day,Sumi\n",
      "Good morning.Have a nice day,Devi\n",
      "Good morning.Have a nice day,Shruth\n"
     ]
    }
   ],
   "source": [
    "#using for loop\n",
    "for a in students_namelist:\n",
    "    print(f\"Good morning.Have a nice day,{a.title()}\")"
   ]
  },
  {
   "cell_type": "code",
   "execution_count": 3,
   "metadata": {},
   "outputs": [
    {
     "name": "stdout",
     "output_type": "stream",
     "text": [
      "Good morning.Have a nice day,Kavi\n",
      "Work hard to get succeed,kavi\n",
      "Good morning.Have a nice day,Bavi\n",
      "Work hard to get succeed,bavi\n",
      "Good morning.Have a nice day,Usha\n",
      "Work hard to get succeed,usha\n",
      "Good morning.Have a nice day,Sumi\n",
      "Work hard to get succeed,sumi\n",
      "Good morning.Have a nice day,Devi\n",
      "Work hard to get succeed,devi\n",
      "Good morning.Have a nice day,Shruth\n",
      "Work hard to get succeed,shruth\n"
     ]
    }
   ],
   "source": [
    "#add more req\n",
    "for b in students_namelist:\n",
    "     print(f\"Good morning.Have a nice day,{b.title()}\")\n",
    "     print(f\"Work hard to get succeed,{b}\")\n",
    "    "
   ]
  },
  {
   "cell_type": "code",
   "execution_count": 5,
   "metadata": {},
   "outputs": [
    {
     "name": "stdout",
     "output_type": "stream",
     "text": [
      "Good morning.Have a nice day,Kavi\n",
      "Work hard to get succeed,kavi.\n",
      "\n",
      "Good morning.Have a nice day,Bavi\n",
      "Work hard to get succeed,bavi.\n",
      "\n",
      "Good morning.Have a nice day,Usha\n",
      "Work hard to get succeed,usha.\n",
      "\n",
      "Good morning.Have a nice day,Sumi\n",
      "Work hard to get succeed,sumi.\n",
      "\n",
      "Good morning.Have a nice day,Devi\n",
      "Work hard to get succeed,devi.\n",
      "\n",
      "Good morning.Have a nice day,Shruth\n",
      "Work hard to get succeed,shruth.\n",
      "\n"
     ]
    }
   ],
   "source": [
    "#improvisation of the syntax\n",
    "for b in students_namelist:\n",
    "     print(f\"Good morning.Have a nice day,{b.title()}\")\n",
    "     print(f\"Work hard to get succeed,{b}.\\n\")"
   ]
  },
  {
   "cell_type": "code",
   "execution_count": 8,
   "metadata": {},
   "outputs": [
    {
     "name": "stdout",
     "output_type": "stream",
     "text": [
      "Good morning.Have a nice day,Kavi\n",
      "Work hard to get succeed,kavi.\n",
      "\n",
      "Good morning.Have a nice day,Bavi\n",
      "Work hard to get succeed,bavi.\n",
      "\n",
      "Good morning.Have a nice day,Usha\n",
      "Work hard to get succeed,usha.\n",
      "\n",
      "Good morning.Have a nice day,Sumi\n",
      "Work hard to get succeed,sumi.\n",
      "\n",
      "Good morning.Have a nice day,Devi\n",
      "Work hard to get succeed,devi.\n",
      "\n",
      "Good morning.Have a nice day,Shruth\n",
      "Work hard to get succeed,shruth.\n",
      "\n",
      "Thank u students\n"
     ]
    }
   ],
   "source": [
    "for b in students_namelist:\n",
    "     print(f\"Good morning.Have a nice day,{b.title()}\")\n",
    "     print(f\"Work hard to get succeed,{b}.\\n\")\n",
    "     \n",
    "print('Thank u students')"
   ]
  },
  {
   "cell_type": "code",
   "execution_count": null,
   "metadata": {},
   "outputs": [],
   "source": []
  }
 ],
 "metadata": {
  "kernelspec": {
   "display_name": "Python 3",
   "language": "python",
   "name": "python3"
  },
  "language_info": {
   "codemirror_mode": {
    "name": "ipython",
    "version": 3
   },
   "file_extension": ".py",
   "mimetype": "text/x-python",
   "name": "python",
   "nbconvert_exporter": "python",
   "pygments_lexer": "ipython3",
   "version": "3.7.6"
  }
 },
 "nbformat": 4,
 "nbformat_minor": 4
}
