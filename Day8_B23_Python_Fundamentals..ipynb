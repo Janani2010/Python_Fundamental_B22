{
 "cells": [
  {
   "cell_type": "code",
   "execution_count": 1,
   "metadata": {},
   "outputs": [
    {
     "name": "stdout",
     "output_type": "stream",
     "text": [
      "{'color': 'blue', 'points': 3, 'start_position': 0, 'current_position': 10}\n"
     ]
    }
   ],
   "source": [
    "#dictionary\n",
    "alien1={'color':'blue','points':3,'start_position':0,'current_position':10}\n",
    "print(alien1)"
   ]
  },
  {
   "cell_type": "code",
   "execution_count": 2,
   "metadata": {},
   "outputs": [
    {
     "data": {
      "text/plain": [
       "dict"
      ]
     },
     "execution_count": 2,
     "metadata": {},
     "output_type": "execute_result"
    }
   ],
   "source": [
    "type(alien1)"
   ]
  },
  {
   "cell_type": "code",
   "execution_count": 3,
   "metadata": {},
   "outputs": [
    {
     "name": "stdout",
     "output_type": "stream",
     "text": [
      "{'color': 'purple', 'points': 3, 'start_position': 0, 'current_position': 10}\n"
     ]
    }
   ],
   "source": [
    "#modify\n",
    "alien1['color']='purple'\n",
    "print(alien1)"
   ]
  },
  {
   "cell_type": "code",
   "execution_count": 4,
   "metadata": {},
   "outputs": [
    {
     "name": "stdout",
     "output_type": "stream",
     "text": [
      "{'color': 'purple', 'points': 3, 'current_position': 10}\n"
     ]
    }
   ],
   "source": [
    "#delete\n",
    "del alien1['start_position']\n",
    "print(alien1)"
   ]
  },
  {
   "cell_type": "code",
   "execution_count": 5,
   "metadata": {},
   "outputs": [
    {
     "name": "stdout",
     "output_type": "stream",
     "text": [
      "{'kavi': 'blue', 'bavi': 'black', 'vino': 'red', 'nivo': 'pink', 'usha': 'green'}\n"
     ]
    }
   ],
   "source": [
    "#introduction to for loop\n",
    "fav_color={'kavi':'blue','bavi':'black','vino':'red','nivo':'pink','usha':'green'}\n",
    "print(fav_color)"
   ]
  },
  {
   "cell_type": "code",
   "execution_count": 6,
   "metadata": {},
   "outputs": [
    {
     "data": {
      "text/plain": [
       "dict"
      ]
     },
     "execution_count": 6,
     "metadata": {},
     "output_type": "execute_result"
    }
   ],
   "source": [
    "type(fav_color)"
   ]
  },
  {
   "cell_type": "code",
   "execution_count": 7,
   "metadata": {},
   "outputs": [
    {
     "name": "stdout",
     "output_type": "stream",
     "text": [
      "name:kavi\n",
      "color:blue\n",
      "name:bavi\n",
      "color:black\n",
      "name:vino\n",
      "color:red\n",
      "name:nivo\n",
      "color:pink\n",
      "name:usha\n",
      "color:green\n"
     ]
    }
   ],
   "source": [
    "for a,b in fav_color.items():\n",
    "    print(f\"name:{a}\")\n",
    "    print(f\"color:{b}\")"
   ]
  },
  {
   "cell_type": "code",
   "execution_count": 8,
   "metadata": {},
   "outputs": [
    {
     "name": "stdout",
     "output_type": "stream",
     "text": [
      "name:kavi\n",
      "color:blue\n",
      "\n",
      "name:bavi\n",
      "color:black\n",
      "\n",
      "name:vino\n",
      "color:red\n",
      "\n",
      "name:nivo\n",
      "color:pink\n",
      "\n",
      "name:usha\n",
      "color:green\n",
      "\n"
     ]
    }
   ],
   "source": [
    "for a,b in fav_color.items():\n",
    "    print(f\"name:{a}\")\n",
    "    print(f\"color:{b}\\n\")"
   ]
  }
 ],
 "metadata": {
  "kernelspec": {
   "display_name": "Python 3",
   "language": "python",
   "name": "python3"
  },
  "language_info": {
   "codemirror_mode": {
    "name": "ipython",
    "version": 3
   },
   "file_extension": ".py",
   "mimetype": "text/x-python",
   "name": "python",
   "nbconvert_exporter": "python",
   "pygments_lexer": "ipython3",
   "version": "3.7.6"
  }
 },
 "nbformat": 4,
 "nbformat_minor": 4
}
