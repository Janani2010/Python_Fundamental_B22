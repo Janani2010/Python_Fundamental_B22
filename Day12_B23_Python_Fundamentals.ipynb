{
 "cells": [
  {
   "cell_type": "code",
   "execution_count": 4,
   "metadata": {},
   "outputs": [],
   "source": [
    "def describe_pet(animal_type,pet_name):\n",
    "    \"\"\"describe the information about the pet of the user\"\"\"\n",
    "    print(f\"I have a {animal_type}\")\n",
    "    print(f\"my{animal_type}'s name is {pet_name}\")"
   ]
  },
  {
   "cell_type": "code",
   "execution_count": 5,
   "metadata": {},
   "outputs": [
    {
     "name": "stdout",
     "output_type": "stream",
     "text": [
      "I have a cat\n",
      "mycat's name is pappu\n"
     ]
    }
   ],
   "source": [
    "describe_pet('cat','pappu')"
   ]
  },
  {
   "cell_type": "code",
   "execution_count": 8,
   "metadata": {},
   "outputs": [],
   "source": [
    "def describe_veh(vehicle_type,vehicle_colour):#positional arguments\n",
    "    \"\"\"describe the information about the vehicle\"\"\"\n",
    "    print(f\"I have a {vehicle_type}\")\n",
    "    print(f\"The colour of the{vehicle_type} is {vehicle_colour}\")"
   ]
  },
  {
   "cell_type": "code",
   "execution_count": 9,
   "metadata": {},
   "outputs": [
    {
     "name": "stdout",
     "output_type": "stream",
     "text": [
      "I have a car\n",
      "The colour of thecar is red\n"
     ]
    }
   ],
   "source": [
    "describe_veh('car','red')"
   ]
  },
  {
   "cell_type": "code",
   "execution_count": 10,
   "metadata": {},
   "outputs": [
    {
     "name": "stdout",
     "output_type": "stream",
     "text": [
      "I have a Jeep\n",
      "The colour of theJeep is green\n"
     ]
    }
   ],
   "source": [
    "describe_veh(vehicle_type='Jeep',vehicle_colour='green')#argument"
   ]
  },
  {
   "cell_type": "code",
   "execution_count": 11,
   "metadata": {},
   "outputs": [],
   "source": [
    "def describe_veh(vehicle_type,vehicle_colour='grey'):#default arguments\n",
    "    \"\"\"describe the information about the vehicle\"\"\"\n",
    "    print(f\"I have a {vehicle_type}.\")\n",
    "    print(f\"The colour of the {vehicle_type} is {vehicle_colour}.\")"
   ]
  },
  {
   "cell_type": "code",
   "execution_count": 12,
   "metadata": {},
   "outputs": [
    {
     "name": "stdout",
     "output_type": "stream",
     "text": [
      "I have a car.\n",
      "The colour of the car is grey.\n"
     ]
    }
   ],
   "source": [
    "describe_veh('car')"
   ]
  },
  {
   "cell_type": "code",
   "execution_count": 13,
   "metadata": {},
   "outputs": [],
   "source": [
    "def icecream(topping):\n",
    "    \"\"\"create a function for topping\"\"\"\n",
    "    print(topping)"
   ]
  },
  {
   "cell_type": "code",
   "execution_count": 14,
   "metadata": {},
   "outputs": [
    {
     "name": "stdout",
     "output_type": "stream",
     "text": [
      "nuts\n"
     ]
    }
   ],
   "source": [
    "icecream('nuts')"
   ]
  },
  {
   "cell_type": "code",
   "execution_count": 15,
   "metadata": {},
   "outputs": [],
   "source": [
    "def icecream(*topping):\n",
    "    \"\"\"create a function for topping\"\"\"\n",
    "    print(topping)"
   ]
  },
  {
   "cell_type": "code",
   "execution_count": 16,
   "metadata": {},
   "outputs": [
    {
     "name": "stdout",
     "output_type": "stream",
     "text": [
      "('nuts', 'chocochips', 'sugarcandies')\n"
     ]
    }
   ],
   "source": [
    "icecream('nuts','chocochips','sugarcandies')"
   ]
  },
  {
   "cell_type": "code",
   "execution_count": null,
   "metadata": {},
   "outputs": [],
   "source": []
  }
 ],
 "metadata": {
  "kernelspec": {
   "display_name": "Python 3",
   "language": "python",
   "name": "python3"
  },
  "language_info": {
   "codemirror_mode": {
    "name": "ipython",
    "version": 3
   },
   "file_extension": ".py",
   "mimetype": "text/x-python",
   "name": "python",
   "nbconvert_exporter": "python",
   "pygments_lexer": "ipython3",
   "version": "3.7.6"
  }
 },
 "nbformat": 4,
 "nbformat_minor": 4
}
